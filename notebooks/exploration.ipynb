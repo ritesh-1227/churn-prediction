{
 "cells": [
  {
   "cell_type": "code",
   "execution_count": 1,
   "id": "30865a03-c3f2-468f-8a63-5274aec0b613",
   "metadata": {},
   "outputs": [],
   "source": [
    "import pandas as pd\n",
    "import numpy as np\n",
    "import matplotlib.pyplot as plt\n",
    "import seaborn as sns\n",
    "from sklearn.model_selection import train_test_split\n",
    "from sklearn.preprocessing import StandardScaler, LabelEncoder"
   ]
  },
  {
   "cell_type": "code",
   "execution_count": 4,
   "id": "d5213a9a-5fbc-4f9f-acd4-a463be3dfd6c",
   "metadata": {},
   "outputs": [],
   "source": [
    "# Load data\n",
    "df = pd.read_csv('../data/Telco_customer_churn.csv')"
   ]
  },
  {
   "cell_type": "code",
   "execution_count": 7,
   "id": "d90b2f29-6f80-4407-ae43-73fe8494b26c",
   "metadata": {},
   "outputs": [],
   "source": [
    "# Convert column names to snake case\n",
    "def convert_to_snake_case(name):\n",
    "    # Remove spaces and convert to lowercase\n",
    "    return name.lower().replace(' ', '_')\n",
    "\n",
    "# Rename all columns\n",
    "df.columns = [convert_to_snake_case(col) for col in df.columns]"
   ]
  },
  {
   "cell_type": "code",
   "execution_count": 8,
   "id": "95c429b5-a1bf-4c87-aa70-f4f7041a872e",
   "metadata": {
    "scrolled": true
   },
   "outputs": [
    {
     "name": "stdout",
     "output_type": "stream",
     "text": [
      "New Column Names:\n",
      "['customerid', 'count', 'country', 'state', 'city', 'zip_code', 'lat_long', 'latitude', 'longitude', 'gender', 'senior_citizen', 'partner', 'dependents', 'tenure_months', 'phone_service', 'multiple_lines', 'internet_service', 'online_security', 'online_backup', 'device_protection', 'tech_support', 'streaming_tv', 'streaming_movies', 'contract', 'paperless_billing', 'payment_method', 'monthly_charges', 'total_charges', 'churn_label', 'churn_value', 'churn_score', 'cltv', 'churn_reason']\n",
      "\n",
      "Dataset Shape: (7043, 33)\n",
      "\n",
      "Missing Values:\n",
      " customerid              0\n",
      "count                   0\n",
      "country                 0\n",
      "state                   0\n",
      "city                    0\n",
      "zip_code                0\n",
      "lat_long                0\n",
      "latitude                0\n",
      "longitude               0\n",
      "gender                  0\n",
      "senior_citizen          0\n",
      "partner                 0\n",
      "dependents              0\n",
      "tenure_months           0\n",
      "phone_service           0\n",
      "multiple_lines          0\n",
      "internet_service        0\n",
      "online_security         0\n",
      "online_backup           0\n",
      "device_protection       0\n",
      "tech_support            0\n",
      "streaming_tv            0\n",
      "streaming_movies        0\n",
      "contract                0\n",
      "paperless_billing       0\n",
      "payment_method          0\n",
      "monthly_charges         0\n",
      "total_charges           0\n",
      "churn_label             0\n",
      "churn_value             0\n",
      "churn_score             0\n",
      "cltv                    0\n",
      "churn_reason         5174\n",
      "dtype: int64\n",
      "\n",
      "Data Types:\n",
      " customerid            object\n",
      "count                  int64\n",
      "country               object\n",
      "state                 object\n",
      "city                  object\n",
      "zip_code               int64\n",
      "lat_long              object\n",
      "latitude             float64\n",
      "longitude            float64\n",
      "gender                object\n",
      "senior_citizen        object\n",
      "partner               object\n",
      "dependents            object\n",
      "tenure_months          int64\n",
      "phone_service         object\n",
      "multiple_lines        object\n",
      "internet_service      object\n",
      "online_security       object\n",
      "online_backup         object\n",
      "device_protection     object\n",
      "tech_support          object\n",
      "streaming_tv          object\n",
      "streaming_movies      object\n",
      "contract              object\n",
      "paperless_billing     object\n",
      "payment_method        object\n",
      "monthly_charges      float64\n",
      "total_charges         object\n",
      "churn_label           object\n",
      "churn_value            int64\n",
      "churn_score            int64\n",
      "cltv                   int64\n",
      "churn_reason          object\n",
      "dtype: object\n"
     ]
    }
   ],
   "source": [
    "# Print new column names\n",
    "print(\"New Column Names:\")\n",
    "print(df.columns.tolist())\n",
    "\n",
    "# Basic exploration\n",
    "print(\"\\nDataset Shape:\", df.shape)\n",
    "print(\"\\nMissing Values:\\n\", df.isnull().sum())\n",
    "print(\"\\nData Types:\\n\", df.dtypes)"
   ]
  },
  {
   "cell_type": "code",
   "execution_count": 9,
   "id": "94da87a5-13b1-480e-a35d-50798a838cf7",
   "metadata": {},
   "outputs": [
    {
     "name": "stdout",
     "output_type": "stream",
     "text": [
      "\n",
      "Churn Distribution:\n",
      "Churn Label:\n",
      " churn_label\n",
      "No     0.73463\n",
      "Yes    0.26537\n",
      "Name: proportion, dtype: float64\n",
      "\n",
      "Churn Value:\n",
      " churn_value\n",
      "0    0.73463\n",
      "1    0.26537\n",
      "Name: proportion, dtype: float64\n",
      "\n",
      "Churn Score Distribution:\n",
      "count    7043.000000\n",
      "mean       58.699418\n",
      "std        21.525131\n",
      "min         5.000000\n",
      "25%        40.000000\n",
      "50%        61.000000\n",
      "75%        75.000000\n",
      "max       100.000000\n",
      "Name: churn_score, dtype: float64\n"
     ]
    }
   ],
   "source": [
    "# Analyze target variables (we have multiple churn-related columns)\n",
    "print(\"\\nChurn Distribution:\")\n",
    "print(\"Churn Label:\\n\", df['churn_label'].value_counts(normalize=True))\n",
    "print(\"\\nChurn Value:\\n\", df['churn_value'].value_counts(normalize=True))\n",
    "print(\"\\nChurn Score Distribution:\")\n",
    "print(df['churn_score'].describe())"
   ]
  },
  {
   "cell_type": "code",
   "execution_count": 10,
   "id": "8da6bce3-8585-4b86-94a1-354991f42fe9",
   "metadata": {},
   "outputs": [
    {
     "name": "stdout",
     "output_type": "stream",
     "text": [
      "\n",
      "Categorical Columns: ['customerid', 'country', 'state', 'city', 'lat_long', 'gender', 'senior_citizen', 'partner', 'dependents', 'phone_service', 'multiple_lines', 'internet_service', 'online_security', 'online_backup', 'device_protection', 'tech_support', 'streaming_tv', 'streaming_movies', 'contract', 'paperless_billing', 'payment_method', 'total_charges', 'churn_label', 'churn_reason']\n",
      "\n",
      "Numerical Columns: ['count', 'zip_code', 'latitude', 'longitude', 'tenure_months', 'monthly_charges', 'churn_value', 'churn_score', 'cltv']\n"
     ]
    }
   ],
   "source": [
    "# Categorical variables analysis\n",
    "categorical_cols = df.select_dtypes(include=['object']).columns\n",
    "print(\"\\nCategorical Columns:\", categorical_cols.tolist())\n",
    "\n",
    "# Numerical variables analysis\n",
    "numerical_cols = df.select_dtypes(include=['int64', 'float64']).columns\n",
    "print(\"\\nNumerical Columns:\", numerical_cols.tolist())"
   ]
  },
  {
   "cell_type": "code",
   "execution_count": null,
   "id": "8ea06f9e-aa24-4a6b-b674-d36273fea597",
   "metadata": {},
   "outputs": [],
   "source": []
  }
 ],
 "metadata": {
  "kernelspec": {
   "display_name": "Python 3 (ipykernel)",
   "language": "python",
   "name": "python3"
  },
  "language_info": {
   "codemirror_mode": {
    "name": "ipython",
    "version": 3
   },
   "file_extension": ".py",
   "mimetype": "text/x-python",
   "name": "python",
   "nbconvert_exporter": "python",
   "pygments_lexer": "ipython3",
   "version": "3.9.21"
  }
 },
 "nbformat": 4,
 "nbformat_minor": 5
}
